{
 "cells": [
  {
   "cell_type": "markdown",
   "metadata": {},
   "source": [
    "National Health Service of Ukraine [provide](https://data.gov.ua/en/dataset/3fcbfe9e-7cec-4f69-b9ca-be49daae2369) access to medical records about vaccination of the population against the Corona virus in Ukraine\n",
    "\n",
    "In this notebook We'll explore the data source to understant its nature, types and stucture."
   ]
  },
  {
   "cell_type": "code",
   "execution_count": 2,
   "metadata": {},
   "outputs": [],
   "source": [
    "import requests\n",
    "from bs4 import BeautifulSoup\n",
    "import re\n",
    "import pandas as pd\n",
    "\n",
    "# \n",
    "url = \"https://data.gov.ua/en/dataset/3fcbfe9e-7cec-4f69-b9ca-be49daae2369\"\n",
    "\n",
    "meta_info_links=['https://data.gov.ua/dataset/4cced549-1a03-4e0b-afbb-461febb26007/resource/5906aa4e-4974-486f-8477-b4749d98542e/download/immunization_legal_entities_info.csv',\n",
    " 'https://data.gov.ua/dataset/4cced549-1a03-4e0b-afbb-461febb26007/resource/b4d8df31-8ecc-4646-a373-95b756fde8ea/download/immunization_vaccine_codes.csv']\n",
    "# Send a GET request to the URL\n",
    "response = requests.get(url)\n",
    "\n",
    "# Parse the HTML content\n",
    "soup = BeautifulSoup(response.text, \"html.parser\")\n",
    "\n"
   ]
  },
  {
   "cell_type": "code",
   "execution_count": 3,
   "metadata": {},
   "outputs": [
    {
     "name": "stdout",
     "output_type": "stream",
     "text": [
      "['https://data.gov.ua/dataset/4cced549-1a03-4e0b-afbb-461febb26007/resource/37bdbd0d-88de-4a2e-ae97-c130187681db/download/immunizations_covid19_4qrt_2023.zip', 'https://data.gov.ua/dataset/4cced549-1a03-4e0b-afbb-461febb26007/resource/440ac222-cc4e-4ab9-9a7a-d1c9377a7d48/download/immunizations_covid19_3qrt_2023.zip', 'https://data.gov.ua/dataset/4cced549-1a03-4e0b-afbb-461febb26007/resource/4701f565-9893-45d8-a151-1ba2d54e7eeb/download/immunizations_covid19_2qrt_2023.zip', 'https://data.gov.ua/dataset/4cced549-1a03-4e0b-afbb-461febb26007/resource/e2005fe5-4d4a-407c-9233-b5abe874bda1/download/immunizations_covid19_1qrt_2023.zip', 'https://data.gov.ua/dataset/4cced549-1a03-4e0b-afbb-461febb26007/resource/5ad3b149-6990-49f2-aad9-14773e484f24/download/immunizations_covid19_4qrt_2022.zip', 'https://data.gov.ua/dataset/4cced549-1a03-4e0b-afbb-461febb26007/resource/120d4e8d-19fa-4a93-81c1-bc15d73dfb9c/download/immunization_covid19_3qrt_2022.zip', 'https://data.gov.ua/dataset/4cced549-1a03-4e0b-afbb-461febb26007/resource/2d0b4e83-5a60-4930-8e30-9caa1b261d4c/download/immunization_covid19_2qrt_2022.zip', 'https://data.gov.ua/dataset/4cced549-1a03-4e0b-afbb-461febb26007/resource/bee0006e-3be0-40bb-91c8-68a921fc2108/download/immunization_covid19_1qrt_2022.zip', 'https://data.gov.ua/dataset/4cced549-1a03-4e0b-afbb-461febb26007/resource/7adbccd2-278e-4781-b783-9027b9776ee1/download/immunization_covid19_4qrt_2021.zip', 'https://data.gov.ua/dataset/4cced549-1a03-4e0b-afbb-461febb26007/resource/df551667-8d41-44e2-8ab7-cabeb15c942b/download/immunization_covid19_3qrt_2021.zip', 'https://data.gov.ua/dataset/4cced549-1a03-4e0b-afbb-461febb26007/resource/6eaade41-ce97-4a8b-929d-034e8b21e82d/download/immunization_covid19_2qrt_2021.zip', 'https://data.gov.ua/dataset/4cced549-1a03-4e0b-afbb-461febb26007/resource/85286f5b-2b23-4871-899e-f2a5b33b2471/download/immunization_covid19_1qrt_2021.zip', 'https://data.gov.ua/dataset/4cced549-1a03-4e0b-afbb-461febb26007/resource/f51566ef-dd6a-47f1-8827-6d5e5ca17fda/download/immunization_covid19_2021.zip']\n"
     ]
    }
   ],
   "source": [
    "# Find all <a> tags with href attribute containing 'download' and '.zip'\n",
    "zip_links = soup.find_all(\"a\", href=re.compile(r'download.*\\.zip'))\n",
    "links=[]\n",
    "# Iterate through each zip link and download the file\n",
    "for link in zip_links:\n",
    "    download_url = link.get(\"href\")\n",
    "    links.append(download_url)\n",
    "print(links)\n"
   ]
  },
  {
   "cell_type": "code",
   "execution_count": 4,
   "metadata": {},
   "outputs": [
    {
     "data": {
      "text/plain": [
       "['https://data.gov.ua/dataset/4cced549-1a03-4e0b-afbb-461febb26007/resource/37bdbd0d-88de-4a2e-ae97-c130187681db/download/immunizations_covid19_4qrt_2023.zip',\n",
       " 'https://data.gov.ua/dataset/4cced549-1a03-4e0b-afbb-461febb26007/resource/440ac222-cc4e-4ab9-9a7a-d1c9377a7d48/download/immunizations_covid19_3qrt_2023.zip',\n",
       " 'https://data.gov.ua/dataset/4cced549-1a03-4e0b-afbb-461febb26007/resource/4701f565-9893-45d8-a151-1ba2d54e7eeb/download/immunizations_covid19_2qrt_2023.zip',\n",
       " 'https://data.gov.ua/dataset/4cced549-1a03-4e0b-afbb-461febb26007/resource/e2005fe5-4d4a-407c-9233-b5abe874bda1/download/immunizations_covid19_1qrt_2023.zip',\n",
       " 'https://data.gov.ua/dataset/4cced549-1a03-4e0b-afbb-461febb26007/resource/5ad3b149-6990-49f2-aad9-14773e484f24/download/immunizations_covid19_4qrt_2022.zip',\n",
       " 'https://data.gov.ua/dataset/4cced549-1a03-4e0b-afbb-461febb26007/resource/120d4e8d-19fa-4a93-81c1-bc15d73dfb9c/download/immunization_covid19_3qrt_2022.zip',\n",
       " 'https://data.gov.ua/dataset/4cced549-1a03-4e0b-afbb-461febb26007/resource/2d0b4e83-5a60-4930-8e30-9caa1b261d4c/download/immunization_covid19_2qrt_2022.zip',\n",
       " 'https://data.gov.ua/dataset/4cced549-1a03-4e0b-afbb-461febb26007/resource/bee0006e-3be0-40bb-91c8-68a921fc2108/download/immunization_covid19_1qrt_2022.zip',\n",
       " 'https://data.gov.ua/dataset/4cced549-1a03-4e0b-afbb-461febb26007/resource/7adbccd2-278e-4781-b783-9027b9776ee1/download/immunization_covid19_4qrt_2021.zip',\n",
       " 'https://data.gov.ua/dataset/4cced549-1a03-4e0b-afbb-461febb26007/resource/df551667-8d41-44e2-8ab7-cabeb15c942b/download/immunization_covid19_3qrt_2021.zip',\n",
       " 'https://data.gov.ua/dataset/4cced549-1a03-4e0b-afbb-461febb26007/resource/6eaade41-ce97-4a8b-929d-034e8b21e82d/download/immunization_covid19_2qrt_2021.zip',\n",
       " 'https://data.gov.ua/dataset/4cced549-1a03-4e0b-afbb-461febb26007/resource/85286f5b-2b23-4871-899e-f2a5b33b2471/download/immunization_covid19_1qrt_2021.zip',\n",
       " 'https://data.gov.ua/dataset/4cced549-1a03-4e0b-afbb-461febb26007/resource/f51566ef-dd6a-47f1-8827-6d5e5ca17fda/download/immunization_covid19_2021.zip']"
      ]
     },
     "execution_count": 4,
     "metadata": {},
     "output_type": "execute_result"
    }
   ],
   "source": [
    "links"
   ]
  },
  {
   "cell_type": "code",
   "execution_count": 5,
   "metadata": {},
   "outputs": [],
   "source": [
    "download_url=links[0] # Dig into  data for 4qrt_2023\n",
    "data_dtypes=    {\n",
    "    'temp_immunization_id': str,\n",
    "    'legal_entity_id': str,\n",
    "    'division_identifier_value': str,\n",
    "    'status': str,\n",
    "    'not_given': bool,\n",
    "    'vaccine_code': str,\n",
    "    'patient_age_group': str,\n",
    "    'patient_gender': str,\n",
    "    'manufacturer': str,\n",
    "    'lot_number': str,\n",
    "    'dose_quantity_unit': str,\n",
    "    'dose_quantity_value': float,\n",
    "    'vaccination_protocol_dose_sequence': pd.Int64Dtype(),\n",
    "    'vaccination_protocol_series': str,\n",
    "    'vaccination_protocol_series_doses': pd.Int64Dtype(),\n",
    "    'vaccination_protocol_target_diseases': str\n",
    "    }\n",
    "parse_dates=['immunization_date','expiration_date','inserted_at','updated_at']\n",
    "df = pd.read_csv(download_url, compression='zip', header=0, sep=',', quotechar='\"', dtype=data_dtypes , parse_dates=parse_dates)"
   ]
  },
  {
   "cell_type": "code",
   "execution_count": 6,
   "metadata": {},
   "outputs": [
    {
     "name": "stdout",
     "output_type": "stream",
     "text": [
      "temp_immunization_id\n"
     ]
    },
    {
     "data": {
      "text/plain": [
       "temp_immunization_id\n",
       "0000766c6439a38d520b68f99dc1a82e    1\n",
       "aa86684986b762b0ddc06ab4803f3f3e    1\n",
       "aa86030c872dde2f807436979e6598f3    1\n",
       "aa83199bbf4a73af712b45f5954890eb    1\n",
       "aa82dcf314e49167c4306d1287a4ec3d    1\n",
       "                                   ..\n",
       "5584e0e03c3adb3b743bd55f9a89bbce    1\n",
       "55840f3046b1c712620a56eb2d59feea    1\n",
       "55833e28b3cf975da9859c66272ba8ad    1\n",
       "55832778115022a0904a1404643f8d18    1\n",
       "fffffcf0b2a2f872c5bf58781b5f8b17    1\n",
       "Name: count, Length: 92397, dtype: int64"
      ]
     },
     "metadata": {},
     "output_type": "display_data"
    },
    {
     "name": "stdout",
     "output_type": "stream",
     "text": [
      "--------------------------------------------------------------------------------\n",
      "legal_entity_id\n"
     ]
    },
    {
     "data": {
      "text/plain": [
       "legal_entity_id\n",
       "4a05e47a-4396-4996-9a82-81bafd0d7383    1195\n",
       "8976b460-30cf-44cd-a71a-4510037359a2    1037\n",
       "745e847e-65c5-462c-bdb5-29067cf61044    1030\n",
       "8dec5b64-71d4-4ca4-adae-098331b926fc     928\n",
       "a4bb1a50-ed31-4803-af6e-7586757acd31     927\n",
       "                                        ... \n",
       "0f90d1c4-6120-47f6-ac36-31b74e388242       1\n",
       "7e90a8f8-af57-4962-9f90-1c30e55e8466       1\n",
       "c2ff5745-559f-4bb0-8067-13af01f62065       1\n",
       "edc7455c-4153-4f5f-ae30-8d2c9d316b91       1\n",
       "d163980c-31eb-44f1-ad0f-403394eda90d       1\n",
       "Name: count, Length: 1235, dtype: int64"
      ]
     },
     "metadata": {},
     "output_type": "display_data"
    },
    {
     "name": "stdout",
     "output_type": "stream",
     "text": [
      "--------------------------------------------------------------------------------\n",
      "division_identifier_value\n"
     ]
    },
    {
     "data": {
      "text/plain": [
       "division_identifier_value\n",
       "70d1d339-89c5-4df5-996e-d59b25de899b    927\n",
       "ae00ae5a-8577-477e-bb37-22b125219a64    478\n",
       "6cb53924-d38f-4adc-9aa4-dcddcceb60cd    459\n",
       "9cf54d75-027d-4d76-9c1d-1f7ac808357d    432\n",
       "a665b089-425f-4cc6-90eb-a31ea57e1bdb    423\n",
       "                                       ... \n",
       "7091d2f6-c13c-4ec4-8c31-e67d15ef13bc      1\n",
       "f78f2986-d516-4b77-9139-39cbee1af5d6      1\n",
       "8e8d5ca9-2382-46c8-a44c-9855f821f0ee      1\n",
       "73d5507b-ded9-4526-bf67-774c64d48576      1\n",
       "0228caab-10d1-47a8-89a2-933783354bb7      1\n",
       "Name: count, Length: 2939, dtype: int64"
      ]
     },
     "metadata": {},
     "output_type": "display_data"
    },
    {
     "name": "stdout",
     "output_type": "stream",
     "text": [
      "--------------------------------------------------------------------------------\n",
      "status\n"
     ]
    },
    {
     "data": {
      "text/plain": [
       "status\n",
       "Запис коректний            90277\n",
       "Запис внесено помилково     2120\n",
       "Name: count, dtype: int64"
      ]
     },
     "metadata": {},
     "output_type": "display_data"
    },
    {
     "name": "stdout",
     "output_type": "stream",
     "text": [
      "--------------------------------------------------------------------------------\n",
      "not_given\n"
     ]
    },
    {
     "data": {
      "text/plain": [
       "not_given\n",
       "False    91811\n",
       "True       586\n",
       "Name: count, dtype: int64"
      ]
     },
     "metadata": {},
     "output_type": "display_data"
    },
    {
     "name": "stdout",
     "output_type": "stream",
     "text": [
      "--------------------------------------------------------------------------------\n",
      "vaccine_code\n"
     ]
    },
    {
     "data": {
      "text/plain": [
       "vaccine_code\n",
       "SarsCov2_mRNA     86818\n",
       "SarsCov2_nRVv      2968\n",
       "SarsCov2_Inact     1469\n",
       "SarsCov2_DNA        929\n",
       "SarsCov2_RNA        149\n",
       "SarsCov2_RVv         35\n",
       "SarsCov2_Pr          15\n",
       "SarsCov2_Rc_lp       14\n",
       "Name: count, dtype: int64"
      ]
     },
     "metadata": {},
     "output_type": "display_data"
    },
    {
     "name": "stdout",
     "output_type": "stream",
     "text": [
      "--------------------------------------------------------------------------------\n",
      "immunization_date\n"
     ]
    },
    {
     "data": {
      "text/plain": [
       "immunization_date\n",
       "2023-11-09    2072\n",
       "2023-12-20    1949\n",
       "2023-11-07    1925\n",
       "2023-11-10    1883\n",
       "2023-12-19    1870\n",
       "              ... \n",
       "2021-11-20       1\n",
       "2022-09-08       1\n",
       "2022-05-10       1\n",
       "2013-11-13       1\n",
       "2022-08-06       1\n",
       "Name: count, Length: 800, dtype: int64"
      ]
     },
     "metadata": {},
     "output_type": "display_data"
    },
    {
     "name": "stdout",
     "output_type": "stream",
     "text": [
      "--------------------------------------------------------------------------------\n",
      "patient_age_group\n"
     ]
    },
    {
     "data": {
      "text/plain": [
       "patient_age_group\n",
       "61-65 р.    9413\n",
       "66-70 р.    8524\n",
       "56-60 р.    7975\n",
       "36-40 р.    7698\n",
       "51-55 р.    7335\n",
       "71-75 р.    7313\n",
       "46-50 р.    7123\n",
       "41-45 р.    7000\n",
       "31-35 р.    6527\n",
       "26-30 р.    4819\n",
       "16-20 р.    3416\n",
       "76-80 р.    3366\n",
       "21-25 р.    3343\n",
       "05-10 р.    2847\n",
       "81-85 р.    2490\n",
       "11-15 р.    2042\n",
       "86-90 р.     952\n",
       "91-95 р.     151\n",
       "0-4 р.        35\n",
       "96+ р.        28\n",
       "Name: count, dtype: int64"
      ]
     },
     "metadata": {},
     "output_type": "display_data"
    },
    {
     "name": "stdout",
     "output_type": "stream",
     "text": [
      "--------------------------------------------------------------------------------\n",
      "patient_gender\n"
     ]
    },
    {
     "data": {
      "text/plain": [
       "patient_gender\n",
       "Жіноча      50747\n",
       "Чоловіча    41650\n",
       "Name: count, dtype: int64"
      ]
     },
     "metadata": {},
     "output_type": "display_data"
    },
    {
     "name": "stdout",
     "output_type": "stream",
     "text": [
      "--------------------------------------------------------------------------------\n",
      "manufacturer\n"
     ]
    },
    {
     "data": {
      "text/plain": [
       "manufacturer\n",
       "BIONTECH MANUFACTURING GMBH                                                          66978\n",
       "БАЙОНТЕК МЕНЮФЕКЧУРИНГ ГМБХ, НІМЕЧЧИНА                                                6860\n",
       "ПФАЙЗЕР МЕНЮФЕКЧУРИНГ БЕЛЬГІЯ НВ, БЕЛЬГIЯ; БАЙОНТЕК МЕНЮФЕКЧУРИНГ ГМБХ, НІМЕЧЧИНА     5356\n",
       "PFIZER MANUFACTURING BELGIUM NV                                                       2713\n",
       "JANSSEN–CILAG INTERNATIONAL NV                                                        2670\n",
       "                                                                                     ...  \n",
       "COMURNATU                                                                                1\n",
       "НІМЕТЧІНА                                                                                1\n",
       "BIONTECH MANUFACTURING GMB.H GERMANI                                                     1\n",
       "PFIZER MANUFACTURING BELGIUM NV;                                                         1\n",
       "CORONOVAC                                                                                1\n",
       "Name: count, Length: 239, dtype: int64"
      ]
     },
     "metadata": {},
     "output_type": "display_data"
    },
    {
     "name": "stdout",
     "output_type": "stream",
     "text": [
      "--------------------------------------------------------------------------------\n",
      "lot_number\n"
     ]
    },
    {
     "data": {
      "text/plain": [
       "lot_number\n",
       "GA2988        78424\n",
       "GC9425         3435\n",
       "GK0925         3155\n",
       "XE770          1701\n",
       "XE923          1115\n",
       "              ...  \n",
       "GA2985            1\n",
       "GА2988            1\n",
       "MV1005A           1\n",
       "ACA5775           1\n",
       "С202104051        1\n",
       "Name: count, Length: 407, dtype: int64"
      ]
     },
     "metadata": {},
     "output_type": "display_data"
    },
    {
     "name": "stdout",
     "output_type": "stream",
     "text": [
      "--------------------------------------------------------------------------------\n",
      "expiration_date\n"
     ]
    },
    {
     "data": {
      "text/plain": [
       "expiration_date\n",
       "2024-02-29    61953\n",
       "2024-02-28     5809\n",
       "2023-08-31     4961\n",
       "2024-08-31     2741\n",
       "2024-03-30     2512\n",
       "              ...  \n",
       "2022-09-09        1\n",
       "2022-10-14        1\n",
       "2024-07-30        1\n",
       "2022-01-25        1\n",
       "2022-08-25        1\n",
       "Name: count, Length: 361, dtype: int64"
      ]
     },
     "metadata": {},
     "output_type": "display_data"
    },
    {
     "name": "stdout",
     "output_type": "stream",
     "text": [
      "--------------------------------------------------------------------------------\n",
      "dose_quantity_unit\n"
     ]
    },
    {
     "data": {
      "text/plain": [
       "dose_quantity_unit\n",
       "ML     91760\n",
       "MG        47\n",
       "MKG        5\n",
       "Name: count, dtype: int64"
      ]
     },
     "metadata": {},
     "output_type": "display_data"
    },
    {
     "name": "stdout",
     "output_type": "stream",
     "text": [
      "--------------------------------------------------------------------------------\n",
      "dose_quantity_value\n"
     ]
    },
    {
     "data": {
      "text/plain": [
       "dose_quantity_value\n",
       "0.300     82387\n",
       "0.500      5827\n",
       "0.200      3147\n",
       "3.000       173\n",
       "1.000       114\n",
       "0.250        55\n",
       "0.100        32\n",
       "5.000        21\n",
       "4.000        17\n",
       "0.050         9\n",
       "0.030         9\n",
       "2.000         5\n",
       "0.800         4\n",
       "30.000        3\n",
       "0.600         2\n",
       "0.150         2\n",
       "0.301         1\n",
       "1.300         1\n",
       "0.630         1\n",
       "0.499         1\n",
       "0.900         1\n",
       "Name: count, dtype: int64"
      ]
     },
     "metadata": {},
     "output_type": "display_data"
    },
    {
     "name": "stdout",
     "output_type": "stream",
     "text": [
      "--------------------------------------------------------------------------------\n",
      "vaccination_protocol_dose_sequence\n"
     ]
    },
    {
     "data": {
      "text/plain": [
       "vaccination_protocol_dose_sequence\n",
       "1       80076\n",
       "2        9447\n",
       "3        1884\n",
       "4         708\n",
       "5         244\n",
       "6          10\n",
       "11          6\n",
       "80          2\n",
       "77          2\n",
       "79          2\n",
       "78          2\n",
       "81          2\n",
       "83          2\n",
       "82          1\n",
       "84          1\n",
       "75          1\n",
       "2213        1\n",
       "73          1\n",
       "76          1\n",
       "16          1\n",
       "8           1\n",
       "74          1\n",
       "12          1\n",
       "Name: count, dtype: Int64"
      ]
     },
     "metadata": {},
     "output_type": "display_data"
    },
    {
     "name": "stdout",
     "output_type": "stream",
     "text": [
      "--------------------------------------------------------------------------------\n",
      "vaccination_protocol_series\n"
     ]
    },
    {
     "data": {
      "text/plain": [
       "vaccination_protocol_series\n",
       "Бустерна доза                                          40073\n",
       "5-й етап вакцинації                                     7760\n",
       "бустерна доза                                           6962\n",
       "1                                                       5839\n",
       "5                                                       4544\n",
       "                                                       ...  \n",
       "5 етап-  б2 устерна доза                                   1\n",
       "Введення бустерної дози від COVID19                        1\n",
       "ВВЕДЕННЯ 3 БУСТЕРНОЇ ДОЗИ ВАКЦИНИ ВІД COVID-19             1\n",
       "Друга  ревакцинальна   (бустерна)  доза                    1\n",
       "введення першої бустерної дози вакцини від ковід-19        1\n",
       "Name: count, Length: 1410, dtype: int64"
      ]
     },
     "metadata": {},
     "output_type": "display_data"
    },
    {
     "name": "stdout",
     "output_type": "stream",
     "text": [
      "--------------------------------------------------------------------------------\n",
      "vaccination_protocol_series_doses\n"
     ]
    },
    {
     "data": {
      "text/plain": [
       "vaccination_protocol_series_doses\n",
       "1     69860\n",
       "2     21334\n",
       "3       626\n",
       "4       366\n",
       "5       178\n",
       "6        27\n",
       "10        2\n",
       "7         1\n",
       "11        1\n",
       "20        1\n",
       "Name: count, dtype: Int64"
      ]
     },
     "metadata": {},
     "output_type": "display_data"
    },
    {
     "name": "stdout",
     "output_type": "stream",
     "text": [
      "--------------------------------------------------------------------------------\n",
      "vaccination_protocol_target_diseases\n"
     ]
    },
    {
     "data": {
      "text/plain": [
       "vaccination_protocol_target_diseases\n",
       "Коронавірусна хвороба (COVID-19)    92397\n",
       "Name: count, dtype: int64"
      ]
     },
     "metadata": {},
     "output_type": "display_data"
    },
    {
     "name": "stdout",
     "output_type": "stream",
     "text": [
      "--------------------------------------------------------------------------------\n",
      "inserted_at\n"
     ]
    },
    {
     "data": {
      "text/plain": [
       "inserted_at\n",
       "2023-11-09    2015\n",
       "2023-11-07    2013\n",
       "2023-12-21    2005\n",
       "2023-12-15    1915\n",
       "2023-12-13    1909\n",
       "              ... \n",
       "2023-06-14       1\n",
       "2023-04-26       1\n",
       "2021-07-03       1\n",
       "2023-09-04       1\n",
       "2021-11-11       1\n",
       "Name: count, Length: 272, dtype: int64"
      ]
     },
     "metadata": {},
     "output_type": "display_data"
    },
    {
     "name": "stdout",
     "output_type": "stream",
     "text": [
      "--------------------------------------------------------------------------------\n",
      "updated_at\n"
     ]
    },
    {
     "data": {
      "text/plain": [
       "updated_at\n",
       "2023-12-21    2020\n",
       "2023-11-07    2019\n",
       "2023-11-09    2001\n",
       "2023-12-15    1922\n",
       "2023-12-19    1920\n",
       "              ... \n",
       "2023-12-24      28\n",
       "2023-11-19      24\n",
       "2023-10-01      23\n",
       "2023-10-08      17\n",
       "2023-10-22      12\n",
       "Name: count, Length: 92, dtype: int64"
      ]
     },
     "metadata": {},
     "output_type": "display_data"
    },
    {
     "name": "stdout",
     "output_type": "stream",
     "text": [
      "--------------------------------------------------------------------------------\n"
     ]
    }
   ],
   "source": [
    "for c in df.columns:\n",
    "    print(c)\n",
    "    display(df[c].value_counts())\n",
    "    print('-'*80)"
   ]
  },
  {
   "cell_type": "code",
   "execution_count": 7,
   "metadata": {},
   "outputs": [
    {
     "data": {
      "text/plain": [
       "status\n",
       "Запис коректний            90277\n",
       "Запис внесено помилково     2120\n",
       "Name: count, dtype: int64"
      ]
     },
     "execution_count": 7,
     "metadata": {},
     "output_type": "execute_result"
    }
   ],
   "source": [
    "df['status'].value_counts()\n"
   ]
  },
  {
   "cell_type": "code",
   "execution_count": null,
   "metadata": {},
   "outputs": [],
   "source": [
    "columns=['temp_immunization_id', 'legal_entity_id', 'division_identifier_value',\n",
    "       'status', 'not_given', 'vaccine_code', 'immunization_date',\n",
    "       'patient_age_group', 'patient_gender', 'manufacturer', 'lot_number',\n",
    "       'expiration_date', 'dose_quantity_unit', 'dose_quantity_value',\n",
    "       'vaccination_protocol_dose_sequence', 'vaccination_protocol_series',\n",
    "       'vaccination_protocol_series_doses',\n",
    "       'vaccination_protocol_target_diseases', 'inserted_at', 'updated_at']"
   ]
  },
  {
   "cell_type": "code",
   "execution_count": 20,
   "metadata": {},
   "outputs": [
    {
     "name": "stdout",
     "output_type": "stream",
     "text": [
      "<class 'pandas.core.frame.DataFrame'>\n",
      "RangeIndex: 92397 entries, 0 to 92396\n",
      "Data columns (total 20 columns):\n",
      " #   Column                                Non-Null Count  Dtype  \n",
      "---  ------                                --------------  -----  \n",
      " 0   temp_immunization_id                  92397 non-null  object \n",
      " 1   legal_entity_id                       92397 non-null  object \n",
      " 2   division_identifier_value             92161 non-null  object \n",
      " 3   status                                92397 non-null  object \n",
      " 4   not_given                             92397 non-null  bool   \n",
      " 5   vaccine_code                          92397 non-null  object \n",
      " 6   immunization_date                     92397 non-null  object \n",
      " 7   patient_age_group                     92397 non-null  object \n",
      " 8   patient_gender                        92397 non-null  object \n",
      " 9   manufacturer                          91736 non-null  object \n",
      " 10  lot_number                            91767 non-null  object \n",
      " 11  expiration_date                       91607 non-null  object \n",
      " 12  dose_quantity_unit                    91812 non-null  object \n",
      " 13  dose_quantity_value                   91812 non-null  float64\n",
      " 14  vaccination_protocol_dose_sequence    92397 non-null  int64  \n",
      " 15  vaccination_protocol_series           92397 non-null  object \n",
      " 16  vaccination_protocol_series_doses     92396 non-null  float64\n",
      " 17  vaccination_protocol_target_diseases  92397 non-null  object \n",
      " 18  inserted_at                           92397 non-null  object \n",
      " 19  updated_at                            92397 non-null  object \n",
      "dtypes: bool(1), float64(2), int64(1), object(16)\n",
      "memory usage: 13.5+ MB\n"
     ]
    }
   ],
   "source": [
    "df_pandas.info()\n"
   ]
  },
  {
   "cell_type": "code",
   "execution_count": 21,
   "metadata": {},
   "outputs": [
    {
     "data": {
      "text/plain": [
       "temp_immunization_id                      0\n",
       "legal_entity_id                           0\n",
       "division_identifier_value               236\n",
       "status                                    0\n",
       "not_given                                 0\n",
       "vaccine_code                              0\n",
       "immunization_date                         0\n",
       "patient_age_group                         0\n",
       "patient_gender                            0\n",
       "manufacturer                            661\n",
       "lot_number                              630\n",
       "expiration_date                         790\n",
       "dose_quantity_unit                      585\n",
       "dose_quantity_value                     585\n",
       "vaccination_protocol_dose_sequence        0\n",
       "vaccination_protocol_series               0\n",
       "vaccination_protocol_series_doses         1\n",
       "vaccination_protocol_target_diseases      0\n",
       "inserted_at                               0\n",
       "updated_at                                0\n",
       "dtype: int64"
      ]
     },
     "execution_count": 21,
     "metadata": {},
     "output_type": "execute_result"
    }
   ],
   "source": [
    "df_pandas.isna().sum()"
   ]
  },
  {
   "cell_type": "code",
   "execution_count": 9,
   "metadata": {},
   "outputs": [
    {
     "data": {
      "text/plain": [
       "(Timestamp('2023-10-01 00:00:00'),\n",
       " Timestamp('2021-03-15 00:00:00'),\n",
       " Timestamp('1922-08-09 00:00:00'))"
      ]
     },
     "execution_count": 9,
     "metadata": {},
     "output_type": "execute_result"
    }
   ],
   "source": [
    "df['updated_at'].min(), df['inserted_at'].min(),  df['immunization_date'].min()"
   ]
  },
  {
   "cell_type": "code",
   "execution_count": 10,
   "metadata": {},
   "outputs": [
    {
     "data": {
      "text/plain": [
       "(92, 272, 800)"
      ]
     },
     "execution_count": 10,
     "metadata": {},
     "output_type": "execute_result"
    }
   ],
   "source": [
    "df['updated_at'].nunique(), df['inserted_at'].nunique(),  df['immunization_date'].nunique()"
   ]
  },
  {
   "cell_type": "code",
   "execution_count": null,
   "metadata": {},
   "outputs": [],
   "source": []
  }
 ],
 "metadata": {
  "kernelspec": {
   "display_name": "vacc",
   "language": "python",
   "name": "python3"
  },
  "language_info": {
   "codemirror_mode": {
    "name": "ipython",
    "version": 3
   },
   "file_extension": ".py",
   "mimetype": "text/x-python",
   "name": "python",
   "nbconvert_exporter": "python",
   "pygments_lexer": "ipython3",
   "version": "3.11.8"
  }
 },
 "nbformat": 4,
 "nbformat_minor": 2
}
