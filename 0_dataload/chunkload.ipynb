{
 "cells": [
  {
   "cell_type": "code",
   "execution_count": 1,
   "metadata": {},
   "outputs": [],
   "source": [
    "import pandas as pd\n",
    "import numpy as np\n"
   ]
  },
  {
   "cell_type": "code",
   "execution_count": 3,
   "metadata": {},
   "outputs": [
    {
     "name": "stdout",
     "output_type": "stream",
     "text": [
      "<class 'pandas.core.frame.DataFrame'>\n"
     ]
    }
   ],
   "source": [
    "download_url='https://data.gov.ua/dataset/4cced549-1a03-4e0b-afbb-461febb26007/resource/7adbccd2-278e-4781-b783-9027b9776ee1/download/immunization_covid19_4qrt_2021.zip'\n",
    "# data_dtypes=    {\n",
    "#     'temp_immunization_id': str,\n",
    "#     'legal_entity_id': str,\n",
    "#     division_identifier_value: str,\n",
    "#     'status': str,\n",
    "#     'not_given': str,     # sometimes not_given is nan and we cant apply bool dtype\n",
    "#     'vaccine_code': str,\n",
    "#     'patient_age_group': str,\n",
    "#     'patient_gender': str,\n",
    "#     'manufacturer': str,\n",
    "#     'lot_number': str,\n",
    "#     'dose_quantity_unit': str,\n",
    "#     'dose_quantity_value': 'float16',\n",
    "#     'vaccination_protocol_dose_sequence': np.int16,\n",
    "#     'vaccination_protocol_series': str,\n",
    "#     'vaccination_protocol_series_doses': np.int16,\n",
    "#     'vaccination_protocol_target_diseases': str\n",
    "#     }\n",
    "# print(\"data_dtypes\", data_dtypes)\n",
    "# parse_dates=['immunization_date','expiration_date','inserted_at','updated_at']\n",
    "# nrows=100\n",
    "\n",
    "\n",
    "\n",
    "chunksize = 10000\n",
    "\n",
    "reader = pd.read_csv(download_url, sep=',',chunksize=chunksize, \n",
    "                    low_memory=False)    \n",
    "\n",
    "\n",
    "for i, chunk in enumerate(reader):\n",
    "    print(type(chunk))\n",
    "    break"
   ]
  },
  {
   "cell_type": "code",
   "execution_count": null,
   "metadata": {},
   "outputs": [],
   "source": []
  }
 ],
 "metadata": {
  "kernelspec": {
   "display_name": "vacc",
   "language": "python",
   "name": "python3"
  },
  "language_info": {
   "codemirror_mode": {
    "name": "ipython",
    "version": 3
   },
   "file_extension": ".py",
   "mimetype": "text/x-python",
   "name": "python",
   "nbconvert_exporter": "python",
   "pygments_lexer": "ipython3",
   "version": "3.11.8"
  }
 },
 "nbformat": 4,
 "nbformat_minor": 2
}
